{
 "cells": [
  {
   "cell_type": "markdown",
   "id": "ee6c5d92-cc56-4653-8aa6-5cbb5ea19034",
   "metadata": {},
   "source": [
    "# Real Time Data\n",
    "\n",
    "* [Namakan Lake at Squirrel Island](https://wateroffice.ec.gc.ca/report/real_time_e.html?stn=05PA013&mode=Graph)\n",
    "* [Rainy Lake near Bear Pass](https://wateroffice.ec.gc.ca/report/real_time_e.html?stn=05PB024&mode=Graph)\n",
    "* [Rainy Lake near Fort Frances](https://wateroffice.ec.gc.ca/report/real_time_e.html?stn=05PB007&mode=Graph)\n",
    "* [Rainy River at Pither's Point Site No. 1](https://wateroffice.ec.gc.ca/report/real_time_e.html?stn=05PC024&mode=Graph)\n",
    "* [Rainy River at Pither's Point Site No. 2](https://wateroffice.ec.gc.ca/report/real_time_e.html?stn=05PC025&mode=Graph)\n",
    "* [Rainy River at Boat Landing below Internation Falls, MN](https://dashboard.waterdata.usgs.gov/api/gwis/2.0/service/site?agencyCode=USGS&siteNumber=05129515&open=74313)\n"
   ]
  },
  {
   "cell_type": "code",
   "execution_count": 2,
   "id": "b73cb8bc-5156-4900-9193-e781fa813a01",
   "metadata": {},
   "outputs": [
    {
     "data": {
      "text/plain": [
       "28.935185185185187"
      ]
     },
     "execution_count": 2,
     "metadata": {},
     "output_type": "execute_result"
    }
   ],
   "source": [
    "2e9/(800*86400)"
   ]
  },
  {
   "cell_type": "code",
   "execution_count": null,
   "id": "84dc1c18-b95c-48af-a7cb-5a913abffafd",
   "metadata": {},
   "outputs": [],
   "source": []
  }
 ],
 "metadata": {
  "kernelspec": {
   "display_name": "Python 3 (ipykernel)",
   "language": "python",
   "name": "python3"
  },
  "language_info": {
   "codemirror_mode": {
    "name": "ipython",
    "version": 3
   },
   "file_extension": ".py",
   "mimetype": "text/x-python",
   "name": "python",
   "nbconvert_exporter": "python",
   "pygments_lexer": "ipython3",
   "version": "3.9.7"
  }
 },
 "nbformat": 4,
 "nbformat_minor": 5
}
