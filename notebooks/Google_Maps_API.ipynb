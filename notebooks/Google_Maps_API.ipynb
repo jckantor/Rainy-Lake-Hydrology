{
 "cells": [
  {
   "cell_type": "markdown",
   "metadata": {
    "deletable": true,
    "editable": true
   },
   "source": [
    "# Google Maps API"
   ]
  },
  {
   "cell_type": "code",
   "execution_count": 6,
   "metadata": {},
   "outputs": [
    {
     "data": {
      "text/plain": [
       "b'The Google Maps Platform server rejected your request. You must use an API key to authenticate each request to Google Maps Platform APIs. For additional information, please refer to http://g.co/dev/maps-no-account'"
      ]
     },
     "execution_count": 6,
     "metadata": {},
     "output_type": "execute_result"
    }
   ],
   "source": [
    "# Display graphics inline with the notebook\n",
    "%matplotlib inline\n",
    "\n",
    "# Standard Python modules\n",
    "import numpy as np\n",
    "import matplotlib.pyplot as plt\n",
    "import pandas as pd\n",
    "import os\n",
    "import datetime\n",
    "import requests\n",
    "\n",
    "# Modules to display images and data tables\n",
    "from IPython.display import Image\n",
    "from IPython.core.display import display\n",
    "\n",
    "def get_map(lat, lng):\n",
    "    google_maps_url = \\\n",
    "        \"https://maps.googleapis.com/maps/api/staticmap?\" + \\\n",
    "        \"size=640x400\" + \\\n",
    "        \"&maptype=terrain\" \n",
    "\n",
    "    return requests.get(google_maps_url).content\n",
    "\n",
    "get_map(48.0, -90.0)"
   ]
  },
  {
   "cell_type": "code",
   "execution_count": 1,
   "metadata": {
    "collapsed": false,
    "deletable": true,
    "editable": true,
    "jupyter": {
     "outputs_hidden": false
    }
   },
   "outputs": [],
   "source": [
    "# Display graphics inline with the notebook\n",
    "%matplotlib inline\n",
    "\n",
    "# Standard Python modules\n",
    "import numpy as np\n",
    "import matplotlib.pyplot as plt\n",
    "import pandas as pd\n",
    "import os\n",
    "import datetime\n",
    "import requests\n",
    "import seaborn as sns\n",
    "sns.set_context('talk')\n",
    "\n",
    "# Modules to display images and data tables\n",
    "from IPython.display import Image\n",
    "from IPython.core.display import display\n",
    "\n",
    "dir = '../data/'\n",
    "img = '../images/'\n",
    "\n",
    "WSC_STATIONS = pd.read_pickle('../data/WSC_STATIONS')\n",
    "WSC_LEVELS = pd.read_pickle('../data/WSC_LEVELS')\n",
    "WSC_FLOWS = pd.read_pickle('../data/WSC_FLOWS')\n",
    "\n",
    "def mapWSC(lvlList,floList=[]):\n",
    "    # return a .png map image\n",
    "    rSet = set(lvlList).difference(set(floList))\n",
    "    gSet = set(floList).difference(set(lvlList))\n",
    "    bSet = set(lvlList).intersection(set(floList))\n",
    "\n",
    "    rMarkers = '&markers=color:red%7Csize:mid%7C' + \\\n",
    "        \"|\".join([\"{0},{1}\".format(WSC_STATIONS.ix[s,'LATITUDE'], \\\n",
    "                                   WSC_STATIONS.ix[s,'LONGITUDE']) for s in rSet]) \n",
    "    gMarkers = '&markers=color:green%7Csize:mid%7C' + \\\n",
    "        \"|\".join([\"{0},{1}\".format(WSC_STATIONS.ix[s,'LATITUDE'], \\\n",
    "                                   WSC_STATIONS.ix[s,'LONGITUDE']) for s in gSet])\n",
    "    bMarkers = '&markers=color:blue%7Csize:mid%7C' + \\\n",
    "        \"|\".join([\"{0},{1}\".format(WSC_STATIONS.ix[s,'LATITUDE'], \\\n",
    "                                   WSC_STATIONS.ix[s,'LONGITUDE']) for s in bSet])\n",
    "    google_maps_url = \\\n",
    "        \"https://maps.googleapis.com/maps/api/staticmap?\" + \\\n",
    "        \"size=640x400\" + \\\n",
    "        \"&maptype=terrain\" + \\\n",
    "        rMarkers + gMarkers + bMarkers\n",
    "    return Image(requests.get(google_maps_url).content)"
   ]
  },
  {
   "cell_type": "markdown",
   "metadata": {
    "deletable": true,
    "editable": true
   },
   "source": [
    "The following map shows the location of flow station 05PC019 relative to level stations at Pither's Point Site No. 1 (05PC024, Base of Rainer Rapids), Pither's Point Site No 2. (05PC205, downstream of the narrows), and Rainy Lake near Fort Frances (05PB007). "
   ]
  },
  {
   "cell_type": "code",
   "execution_count": 2,
   "metadata": {
    "collapsed": false,
    "deletable": true,
    "editable": true,
    "jupyter": {
     "outputs_hidden": false
    }
   },
   "outputs": [
    {
     "name": "stderr",
     "output_type": "stream",
     "text": [
      "/Users/jeff/opt/anaconda3/lib/python3.7/site-packages/ipykernel_launcher.py:33: FutureWarning: \n",
      ".ix is deprecated. Please use\n",
      ".loc for label based indexing or\n",
      ".iloc for positional indexing\n",
      "\n",
      "See the documentation here:\n",
      "http://pandas.pydata.org/pandas-docs/stable/user_guide/indexing.html#ix-indexer-is-deprecated\n",
      "/Users/jeff/opt/anaconda3/lib/python3.7/site-packages/ipykernel_launcher.py:36: FutureWarning: \n",
      ".ix is deprecated. Please use\n",
      ".loc for label based indexing or\n",
      ".iloc for positional indexing\n",
      "\n",
      "See the documentation here:\n",
      "http://pandas.pydata.org/pandas-docs/stable/user_guide/indexing.html#ix-indexer-is-deprecated\n"
     ]
    },
    {
     "data": {
      "image/png": "[encoded data removed]",
      "text/plain": [
       "<IPython.core.display.Image object>"
      ]
     },
     "execution_count": 2,
     "metadata": {},
     "output_type": "execute_result"
    }
   ],
   "source": [
    "lvls = ['05PC024','05PC025','05PB007']\n",
    "flos = ['05PC019','05PC018']\n",
    "\n",
    "mapWSC(lvls,flos)"
   ]
  }
 ],
 "metadata": {
  "kernelspec": {
   "display_name": "Python 3 (ipykernel)",
   "language": "python",
   "name": "python3"
  },
  "language_info": {
   "codemirror_mode": {
    "name": "ipython",
    "version": 3
   },
   "file_extension": ".py",
   "mimetype": "text/x-python",
   "name": "python",
   "nbconvert_exporter": "python",
   "pygments_lexer": "ipython3",
   "version": "3.9.7"
  }
 },
 "nbformat": 4,
 "nbformat_minor": 4
}
